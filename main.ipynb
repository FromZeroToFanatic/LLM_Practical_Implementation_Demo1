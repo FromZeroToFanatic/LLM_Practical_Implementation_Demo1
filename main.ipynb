{
 "cells": [
  {
   "metadata": {},
   "cell_type": "markdown",
   "source": "# 安装依赖并导入Python库",
   "id": "4aba2d22582fcd8a"
  },
  {
   "metadata": {
    "ExecuteTime": {
     "end_time": "2025-07-22T10:49:00.398038Z",
     "start_time": "2025-07-22T10:48:57.876953Z"
    }
   },
   "cell_type": "code",
   "source": [
    "# transformers: HuggingFace的模型与Tokenizer库\n",
    "# datasets: 数据处理与评估（部分功能）\n",
    "# evaluate: BLEU评估工具\n",
    "# sentencepiece: T5使用的分词器依赖\n",
    "# matplotlib: 绘制收敛曲线\n",
    "!pip install transformers datasets evaluate sentencepiece matplotlib -q\n",
    "\n",
    "import json\n",
    "import torch\n",
    "from torch.utils.data import Dataset, DataLoader\n",
    "from transformers import T5ForConditionalGeneration, AutoTokenizer, AdamW\n",
    "import matplotlib.pyplot as plt\n",
    "from tqdm import tqdm\n",
    "import evaluate\n",
    "\n",
    "# 检查是否有GPU\n",
    "device = torch.device(\"cuda\" if torch.cuda.is_available() else \"cpu\")\n",
    "print(\"当前使用设备:\", device)"
   ],
   "id": "2135f50a6a40b7d3",
   "outputs": [
    {
     "name": "stdout",
     "output_type": "stream",
     "text": [
      "当前使用设备: cuda\n"
     ]
    }
   ],
   "execution_count": 37
  },
  {
   "metadata": {},
   "cell_type": "markdown",
   "source": "# 定义 QADataset 数据集类",
   "id": "6d84c0aac0e23392"
  },
  {
   "metadata": {
    "ExecuteTime": {
     "end_time": "2025-07-22T10:49:00.413055Z",
     "start_time": "2025-07-22T10:49:00.405062Z"
    }
   },
   "cell_type": "code",
   "source": [
    "class QADataset(Dataset):\n",
    "    \"\"\"\n",
    "    自定义问答数据集类：\n",
    "    - 将 context 和 question 拼接为输入\n",
    "    - 将 answer 作为目标序列\n",
    "    \"\"\"\n",
    "    def __init__(self, file_path, tokenizer, max_input_len=256, max_output_len=64):\n",
    "        self.data = [json.loads(line) for line in open(file_path, 'r', encoding='utf-8')]\n",
    "        self.tokenizer = tokenizer\n",
    "        self.max_input_len = max_input_len\n",
    "        self.max_output_len = max_output_len\n",
    "\n",
    "    def __len__(self):\n",
    "        return len(self.data)\n",
    "\n",
    "    def __getitem__(self, idx):\n",
    "        item = self.data[idx]\n",
    "        input_text = f\"context: {item['context']} question: {item['question']}\"\n",
    "        target_text = item['answer']\n",
    "\n",
    "        input_enc = self.tokenizer(\n",
    "            input_text, truncation=True, padding='max_length',\n",
    "            max_length=self.max_input_len, return_tensors='pt'\n",
    "        )\n",
    "        target_enc = self.tokenizer(\n",
    "            target_text, truncation=True, padding='max_length',\n",
    "            max_length=self.max_output_len, return_tensors='pt'\n",
    "        )\n",
    "\n",
    "        return {\n",
    "            'input_ids': input_enc['input_ids'].squeeze(),\n",
    "            'attention_mask': input_enc['attention_mask'].squeeze(),\n",
    "            'labels': target_enc['input_ids'].squeeze()\n",
    "        }"
   ],
   "id": "f40d2f33329ee51d",
   "outputs": [],
   "execution_count": 38
  },
  {
   "metadata": {},
   "cell_type": "markdown",
   "source": "# 加载 Tokenizer 和 数据",
   "id": "5dc8e7354ca83a10"
  },
  {
   "metadata": {
    "ExecuteTime": {
     "end_time": "2025-07-22T10:49:00.985543Z",
     "start_time": "2025-07-22T10:49:00.461534Z"
    }
   },
   "cell_type": "code",
   "source": [
    "model_name = \"uer/t5-base-chinese-cluecorpussmall\"\n",
    "tokenizer = AutoTokenizer.from_pretrained(model_name)\n",
    "\n",
    "train_path = \"F:/ProjectDemo/Demo_1/Data/train.json\"\n",
    "dev_path = \"F:/ProjectDemo/Demo_1/Data/dev.json\"\n",
    "\n",
    "train_dataset = QADataset(train_path, tokenizer, max_input_len=256, max_output_len=64)\n",
    "dev_dataset = QADataset(dev_path, tokenizer, max_input_len=256, max_output_len=64)\n",
    "\n",
    "# 截取少量样本以加速训练\n",
    "#train_dataset.data = train_dataset.data[:100]\n",
    "#dev_dataset.data = dev_dataset.data[:20]\n",
    "\n",
    "train_loader = DataLoader(train_dataset, batch_size=4, shuffle=True)\n",
    "dev_loader = DataLoader(dev_dataset, batch_size=4)\n",
    "\n",
    "print(\"训练样本数量:\", len(train_dataset))\n",
    "print(\"验证样本数量:\", len(dev_dataset))"
   ],
   "id": "941412f33776537d",
   "outputs": [
    {
     "name": "stdout",
     "output_type": "stream",
     "text": [
      "训练样本数量: 100\n",
      "验证样本数量: 20\n",
      "第一个样本输入解码: context : 第 35 集 雪 见 缓 缓 张 开 眼 睛 ， 景 天 又 惊 又 喜 之 际 ， 长 卿 和 紫 萱 的 仙 船 驶 至 ， 见 众 人 无 恙 ， 也 十 分 高 兴 。 众 人 登 船 ， 用 尽 合 力 把 自 身 的 真 气 和 水 分 输 给 她 。 雪 见 终 于 醒 过 来 了 ， 但 却 一 脸 木 然 ， 全 无 反 应 。 众 人 向 常 胤 求 助 ， 却 发 现 人 世 界 竟 没 有 雪 见 的 身 世 纪 录 。 长 卿 询 问 清 微 的 身 世 ， 清 微 语 带 双 关 说 一 切 上 了 天 界 便 有 答 案 。 长 卿 驾 驶 仙 船 ， 众 人 决 定 立 马 动 身 ， 往 天 界 而 去 。 众 人 来 到 一 荒 山 ， 长 卿 指 出 ， 魔 界 和 天 界 相 连 。 由 魔 界 进 入 通 过 神 魔 之 井 ， 便 可 登 天 。 众 人 至 魔 界 入 口 ， 仿 若 一 黑 色 的 蝙 蝠 洞 ， 但 始 终 无 法 进 入 。 后 来 花 楹 发 现 只 要 有 翅 膀 便 能 飞 入 。 于 是 景 天 等 人 打 下 许\n",
      "第一个样本标签: 第 35 集\n"
     ]
    }
   ],
   "execution_count": 39
  },
  {
   "metadata": {},
   "cell_type": "markdown",
   "source": "# 加载 T5 模型与优化器",
   "id": "6e042e28ca84d956"
  },
  {
   "metadata": {
    "ExecuteTime": {
     "end_time": "2025-07-22T10:49:03.053672Z",
     "start_time": "2025-07-22T10:49:00.994555Z"
    }
   },
   "cell_type": "code",
   "source": [
    "model = T5ForConditionalGeneration.from_pretrained(model_name).to(device)\n",
    "optimizer = AdamW(model.parameters(), lr=3e-5)\n",
    "\n",
    "print(\"模型加载完成，参数量:\", sum(p.numel() for p in model.parameters()))"
   ],
   "id": "5ca2a2fd717a2d89",
   "outputs": [
    {
     "name": "stdout",
     "output_type": "stream",
     "text": [
      "模型加载完成，参数量: 214532352\n"
     ]
    }
   ],
   "execution_count": 40
  },
  {
   "metadata": {},
   "cell_type": "markdown",
   "source": "# 高效训练函数",
   "id": "a7d70836b3130e3c"
  },
  {
   "metadata": {
    "ExecuteTime": {
     "end_time": "2025-07-22T10:59:55.454233Z",
     "start_time": "2025-07-22T10:49:03.101732Z"
    }
   },
   "cell_type": "code",
   "source": [
    "from torch import autocast, amp\n",
    "scaler = amp.GradScaler('cuda')\n",
    "\n",
    "def train_model_amp(model, train_loader, optimizer, epochs=1, accumulation_steps=1):\n",
    "    train_losses = []\n",
    "    model.train()\n",
    "\n",
    "    for epoch in range(epochs):\n",
    "        epoch_loss = 0.0\n",
    "        loop = tqdm(train_loader, desc=f\"Epoch {epoch + 1}/{epochs}\", ncols=100)\n",
    "        optimizer.zero_grad()\n",
    "\n",
    "        for step, batch in enumerate(loop):\n",
    "            input_ids = batch['input_ids'].to(device)\n",
    "            attention_mask = batch['attention_mask'].to(device)\n",
    "            labels = batch['labels'].to(device)\n",
    "\n",
    "            # AMP 混合精度训练\n",
    "            with autocast(device_type='cuda'):\n",
    "                outputs = model(input_ids=input_ids, attention_mask=attention_mask, labels=labels)\n",
    "                loss = outputs.loss / accumulation_steps\n",
    "\n",
    "            scaler.scale(loss).backward()\n",
    "\n",
    "            if (step + 1) % accumulation_steps == 0:\n",
    "                scaler.step(optimizer)\n",
    "                scaler.update()\n",
    "                optimizer.zero_grad()\n",
    "\n",
    "            epoch_loss += loss.item() * accumulation_steps\n",
    "            loop.set_postfix(loss=loss.item() * accumulation_steps)\n",
    "\n",
    "        avg_loss = epoch_loss / len(train_loader)\n",
    "        train_losses.append(avg_loss)\n",
    "        print(f\"Epoch {epoch + 1} Average Loss: {avg_loss:.4f}\")\n",
    "\n",
    "    return train_losses\n",
    "\n",
    "EPOCHS = 5\n",
    "ACCUMULATION_STEPS = 2\n",
    "train_losses = train_model_amp(model, train_loader, optimizer,\n",
    "                               epochs=EPOCHS,\n",
    "                               accumulation_steps=ACCUMULATION_STEPS)\n",
    "\n",
    "plt.plot(train_losses, marker='o', label=\"Training Loss\")\n",
    "plt.xlabel(\"Epoch\")\n",
    "plt.ylabel(\"Loss\")\n",
    "plt.title(\"Training Loss Curve (AMP)\")\n",
    "plt.legend()\n",
    "plt.grid()\n",
    "plt.show()"
   ],
   "id": "6a487841098fbd21",
   "outputs": [
    {
     "name": "stderr",
     "output_type": "stream",
     "text": [
      "Epoch 1/1: 100%|█████████████████████████████████████████| 25/25 [10:50<00:00, 26.03s/it, loss=9.18]\n"
     ]
    },
    {
     "name": "stdout",
     "output_type": "stream",
     "text": [
      "Epoch 1 Average Loss: 9.4331\n"
     ]
    },
    {
     "data": {
      "text/plain": [
       "<Figure size 640x480 with 1 Axes>"
      ],
      "image/png": "[encoded data removed]"
     },
     "metadata": {},
     "output_type": "display_data"
    }
   ],
   "execution_count": 41
  },
  {
   "metadata": {},
   "cell_type": "markdown",
   "source": "# BLEU评估",
   "id": "c754bea0c5e41ba1"
  },
  {
   "metadata": {
    "ExecuteTime": {
     "end_time": "2025-07-22T11:03:38.791637Z",
     "start_time": "2025-07-22T10:59:55.932882Z"
    }
   },
   "cell_type": "code",
   "source": [
    "bleu_metric = evaluate.load(\"sacrebleu\")\n",
    "\n",
    "def evaluate_bleu(model, data_loader, tokenizer):\n",
    "    model.eval()\n",
    "    preds, refs = [], []\n",
    "\n",
    "    with torch.no_grad():\n",
    "        for batch in tqdm(data_loader, desc=\"Evaluating\", ncols=100):\n",
    "            input_ids = batch['input_ids'].to(device)\n",
    "            attention_mask = batch['attention_mask'].to(device)\n",
    "            labels = batch['labels']\n",
    "\n",
    "            outputs = model.generate(input_ids=input_ids, attention_mask=attention_mask, max_length=64)\n",
    "            pred_texts = tokenizer.batch_decode(outputs, skip_special_tokens=True)\n",
    "            label_texts = tokenizer.batch_decode(labels, skip_special_tokens=True)\n",
    "\n",
    "            preds.extend(pred_texts)\n",
    "            refs.extend([[text] for text in label_texts])\n",
    "\n",
    "    bleu_score = bleu_metric.compute(predictions=preds, references=refs)\n",
    "    print(\"BLEU分数:\", bleu_score)\n",
    "\n",
    "    for i in range(3):\n",
    "        print(f\"预测: {preds[i]} | 真实: {refs[i][0]}\")\n",
    "\n",
    "    return bleu_score\n",
    "\n",
    "evaluate_bleu(model, dev_loader, tokenizer)"
   ],
   "id": "109c826d86939956",
   "outputs": [
    {
     "name": "stderr",
     "output_type": "stream",
     "text": [
      "Downloading builder script: 8.15kB [00:00, 1.63MB/s]\n",
      "Evaluating: 100%|█████████████████████████████████████████████████████| 5/5 [03:37<00:00, 43.50s/it]\n"
     ]
    },
    {
     "name": "stdout",
     "output_type": "stream",
     "text": [
      "BLEU分数: {'score': 0.0, 'counts': [0, 0, 0, 0], 'totals': [52, 32, 22, 13], 'precisions': [0.0, 0.0, 0.0, 0.0], 'bp': 0.5949780474073959, 'sys_len': 52, 'ref_len': 79}\n",
      "预测: extra0 extra6 extra2 extra2 | 真实: 年 基 准 利 率 4. 35 %\n",
      "预测: extra0 extra6 extra2 extra2 | 真实: 4. 35 %\n",
      "预测: extra0 extra6 | 真实: 系 列\n"
     ]
    },
    {
     "data": {
      "text/plain": [
       "{'score': 0.0,\n",
       " 'counts': [0, 0, 0, 0],\n",
       " 'totals': [52, 32, 22, 13],\n",
       " 'precisions': [0.0, 0.0, 0.0, 0.0],\n",
       " 'bp': 0.5949780474073959,\n",
       " 'sys_len': 52,\n",
       " 'ref_len': 79}"
      ]
     },
     "execution_count": 42,
     "metadata": {},
     "output_type": "execute_result"
    }
   ],
   "execution_count": 42
  },
  {
   "metadata": {},
   "cell_type": "markdown",
   "source": "# 样本预测",
   "id": "3a98a0ee3e03edb2"
  },
  {
   "metadata": {
    "ExecuteTime": {
     "end_time": "2025-07-22T11:03:48.872578Z",
     "start_time": "2025-07-22T11:03:38.823928Z"
    }
   },
   "cell_type": "code",
   "source": [
    "def predict(model, tokenizer, context, question):\n",
    "    model.eval()\n",
    "    input_text = f\"context: {context} question: {question}\"\n",
    "    input_ids = tokenizer.encode(input_text, return_tensors='pt', truncation=True, max_length=256).to(device)\n",
    "\n",
    "    with torch.no_grad():\n",
    "        outputs = model.generate(input_ids=input_ids, max_length=64, num_beams=4)\n",
    "\n",
    "    return tokenizer.decode(outputs[0], skip_special_tokens=True)\n",
    "\n",
    "# 测试预测\n",
    "test_context = \"违规分为:一般违规扣分、严重违规扣分、出售假冒商品违规扣分,淘宝网每年12月31日24:00点会对符合条件的扣分做清零处理。\"\n",
    "test_question = \"淘宝扣分什么时候清零\"\n",
    "print(\"预测答案:\", predict(model, tokenizer, test_context, test_question))"
   ],
   "id": "727e3a12ce6eca70",
   "outputs": [
    {
     "name": "stdout",
     "output_type": "stream",
     "text": [
      "预测答案: extra0 extra1 extra2 extra3 extra4 extra5 extra6 extra6 extra9 extra6 extra9 extra9 extra9 extra9 extra9 extra6 extra6 extra6\n"
     ]
    }
   ],
   "execution_count": 43
  }
 ],
 "metadata": {
  "kernelspec": {
   "name": "python3",
   "language": "python",
   "display_name": "Python 3 (ipykernel)"
  }
 },
 "nbformat": 5,
 "nbformat_minor": 9
}
